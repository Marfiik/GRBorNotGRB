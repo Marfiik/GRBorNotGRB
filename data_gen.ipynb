{
 "cells": [
  {
   "cell_type": "code",
   "execution_count": 1,
   "id": "97ec3bc2",
   "metadata": {},
   "outputs": [],
   "source": [
    "import numpy as np\n",
    "import pandas as pd\n",
    "from sklearn.preprocessing import LabelEncoder\n",
    "\n",
    "def gen_signal(N, x0, w, A, bkg, peak=False):\n",
    "    x = np.arange(N)\n",
    "    y = np.ones(N) * bkg\n",
    "    \n",
    "    if peak:\n",
    "        y_peak = np.exp(-(x-x0)/w) * A\n",
    "        y_peak[:x0] = 0\n",
    "        y += y_peak\n",
    "        \n",
    "    y = np.random.poisson(y)\n",
    "\n",
    "    return x, y\n",
    "\n",
    "def data_gen(N_data=100000,N_tu=256,x0=(64, 196),w=(5,20),A=(5,25),bkg=(5,15)):\n",
    "    data = []\n",
    "    df = pd.DataFrame(columns=[\"x0\", \"w\", \"A\", \"bkg\", \"GRB\"], index=range(N_data))\n",
    "    for i in range(N_data):\n",
    "        df[\"x0\"].loc[i] = np.random.randint(x0[0],x0[1])\n",
    "        df[\"w\"].loc[i] = np.random.uniform(w[0],w[1])\n",
    "        df[\"A\"].loc[i] = np.random.uniform(A[0],A[1])\n",
    "        df[\"bkg\"].loc[i] = np.random.uniform(bkg[0],bkg[1])\n",
    "        df[\"GRB\"].loc[i] = [True,False][np.random.randint(2)]\n",
    "        data.append(gen_signal(N=N_tu, \n",
    "                               x0=df.x0.loc[i], \n",
    "                               w=df.w.loc[i], \n",
    "                               A=df.A.loc[i], \n",
    "                               bkg=df.bkg.loc[i],\n",
    "                               peak=df.GRB.loc[i])[1])\n",
    "    X = np.array(data).reshape(-1, len(data[0]))\n",
    "    y = df.GRB\n",
    "    le = LabelEncoder() #encode target labels with value between 0 and n_classes-1\n",
    "    le.fit(y) #fit label encoder\n",
    "    y = le.transform(y) #transform labels to normalized encoding (True = 1, False = 0)\n",
    "\n",
    "    return X, y, df"
   ]
  }
 ],
 "metadata": {
  "kernelspec": {
   "display_name": "Python 3",
   "language": "python",
   "name": "python3"
  },
  "language_info": {
   "codemirror_mode": {
    "name": "ipython",
    "version": 3
   },
   "file_extension": ".py",
   "mimetype": "text/x-python",
   "name": "python",
   "nbconvert_exporter": "python",
   "pygments_lexer": "ipython3",
   "version": "3.8.8"
  }
 },
 "nbformat": 4,
 "nbformat_minor": 5
}
