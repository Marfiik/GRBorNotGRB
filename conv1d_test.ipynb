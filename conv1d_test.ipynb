{
 "cells": [
  {
   "cell_type": "code",
   "execution_count": 36,
   "id": "1c7a85fd",
   "metadata": {
    "executionInfo": {
     "elapsed": 7,
     "status": "ok",
     "timestamp": 1665429823563,
     "user": {
      "displayName": "Martin Chobola",
      "userId": "14296412163936900233"
     },
     "user_tz": -120
    },
    "id": "1c7a85fd"
   },
   "outputs": [],
   "source": [
    "#importing libs\n",
    "import numpy as np\n",
    "import pandas as pd\n",
    "\n",
    "import matplotlib.pyplot as plt\n",
    "import seaborn as sns\n",
    "import glob\n",
    "from astropy.io import fits\n",
    "from predict_info import *\n",
    "\n",
    "import datetime\n",
    "\n",
    "import tensorflow as tf\n",
    "from tensorflow.keras.models import Sequential, Model\n",
    "from tensorflow.keras.layers import Dense, Flatten, Input, Conv1D, Conv1DTranspose, MaxPooling1D, UpSampling1D, Normalization\n",
    "from tensorflow.keras.optimizers import Adam\n",
    "from tensorflow.keras.callbacks import EarlyStopping, TensorBoard\n",
    "\n",
    "from sklearn.preprocessing import LabelEncoder\n",
    "from sklearn.model_selection import train_test_split\n",
    "from sklearn.metrics import auc, roc_curve, confusion_matrix"
   ]
  },
  {
   "cell_type": "code",
   "execution_count": 2,
   "id": "cafedf90",
   "metadata": {
    "id": "cafedf90"
   },
   "outputs": [],
   "source": [
    "def gen_signal(N, x0, w, A, bkg, sigma, peak=False):\n",
    "    x = np.arange(N)\n",
    "    y = np.ones(N) * bkg\n",
    "    \n",
    "    if peak:\n",
    "        y_peak = np.exp(-(x-x0)/w) * A\n",
    "        y_peak[:x0] = 0\n",
    "        y += y_peak\n",
    "        \n",
    "    y = np.random.poisson(y)\n",
    "\n",
    "    return x, y"
   ]
  },
  {
   "cell_type": "code",
   "execution_count": 3,
   "id": "a831aac8",
   "metadata": {
    "colab": {
     "base_uri": "https://localhost:8080/",
     "height": 424
    },
    "executionInfo": {
     "elapsed": 117791,
     "status": "ok",
     "timestamp": 1665158100586,
     "user": {
      "displayName": "Martin Chobola",
      "userId": "14296412163936900233"
     },
     "user_tz": -120
    },
    "id": "a831aac8",
    "outputId": "43ea11e6-018b-4998-9de1-6f985be6d863"
   },
   "outputs": [
    {
     "data": {
      "text/html": [
       "<div>\n",
       "<style scoped>\n",
       "    .dataframe tbody tr th:only-of-type {\n",
       "        vertical-align: middle;\n",
       "    }\n",
       "\n",
       "    .dataframe tbody tr th {\n",
       "        vertical-align: top;\n",
       "    }\n",
       "\n",
       "    .dataframe thead th {\n",
       "        text-align: right;\n",
       "    }\n",
       "</style>\n",
       "<table border=\"1\" class=\"dataframe\">\n",
       "  <thead>\n",
       "    <tr style=\"text-align: right;\">\n",
       "      <th></th>\n",
       "      <th>x0</th>\n",
       "      <th>w</th>\n",
       "      <th>A</th>\n",
       "      <th>bkg</th>\n",
       "      <th>sigma</th>\n",
       "      <th>GRB</th>\n",
       "    </tr>\n",
       "  </thead>\n",
       "  <tbody>\n",
       "    <tr>\n",
       "      <th>0</th>\n",
       "      <td>127</td>\n",
       "      <td>9.50431</td>\n",
       "      <td>14.669199</td>\n",
       "      <td>10.23924</td>\n",
       "      <td>NaN</td>\n",
       "      <td>True</td>\n",
       "    </tr>\n",
       "    <tr>\n",
       "      <th>1</th>\n",
       "      <td>181</td>\n",
       "      <td>5.236078</td>\n",
       "      <td>18.977249</td>\n",
       "      <td>12.784163</td>\n",
       "      <td>NaN</td>\n",
       "      <td>False</td>\n",
       "    </tr>\n",
       "    <tr>\n",
       "      <th>2</th>\n",
       "      <td>119</td>\n",
       "      <td>5.76446</td>\n",
       "      <td>3.946167</td>\n",
       "      <td>3.800426</td>\n",
       "      <td>NaN</td>\n",
       "      <td>False</td>\n",
       "    </tr>\n",
       "    <tr>\n",
       "      <th>3</th>\n",
       "      <td>82</td>\n",
       "      <td>10.505496</td>\n",
       "      <td>18.76276</td>\n",
       "      <td>6.011096</td>\n",
       "      <td>NaN</td>\n",
       "      <td>True</td>\n",
       "    </tr>\n",
       "    <tr>\n",
       "      <th>4</th>\n",
       "      <td>160</td>\n",
       "      <td>8.456918</td>\n",
       "      <td>8.018664</td>\n",
       "      <td>12.884299</td>\n",
       "      <td>NaN</td>\n",
       "      <td>False</td>\n",
       "    </tr>\n",
       "    <tr>\n",
       "      <th>...</th>\n",
       "      <td>...</td>\n",
       "      <td>...</td>\n",
       "      <td>...</td>\n",
       "      <td>...</td>\n",
       "      <td>...</td>\n",
       "      <td>...</td>\n",
       "    </tr>\n",
       "    <tr>\n",
       "      <th>99995</th>\n",
       "      <td>173</td>\n",
       "      <td>7.012674</td>\n",
       "      <td>9.891268</td>\n",
       "      <td>3.691995</td>\n",
       "      <td>NaN</td>\n",
       "      <td>False</td>\n",
       "    </tr>\n",
       "    <tr>\n",
       "      <th>99996</th>\n",
       "      <td>128</td>\n",
       "      <td>6.002221</td>\n",
       "      <td>13.388834</td>\n",
       "      <td>13.102776</td>\n",
       "      <td>NaN</td>\n",
       "      <td>True</td>\n",
       "    </tr>\n",
       "    <tr>\n",
       "      <th>99997</th>\n",
       "      <td>117</td>\n",
       "      <td>12.84431</td>\n",
       "      <td>6.418801</td>\n",
       "      <td>4.34267</td>\n",
       "      <td>NaN</td>\n",
       "      <td>True</td>\n",
       "    </tr>\n",
       "    <tr>\n",
       "      <th>99998</th>\n",
       "      <td>191</td>\n",
       "      <td>9.133706</td>\n",
       "      <td>4.315008</td>\n",
       "      <td>12.339852</td>\n",
       "      <td>NaN</td>\n",
       "      <td>True</td>\n",
       "    </tr>\n",
       "    <tr>\n",
       "      <th>99999</th>\n",
       "      <td>71</td>\n",
       "      <td>7.276809</td>\n",
       "      <td>1.768013</td>\n",
       "      <td>13.428863</td>\n",
       "      <td>NaN</td>\n",
       "      <td>False</td>\n",
       "    </tr>\n",
       "  </tbody>\n",
       "</table>\n",
       "<p>100000 rows × 6 columns</p>\n",
       "</div>"
      ],
      "text/plain": [
       "        x0          w          A        bkg sigma    GRB\n",
       "0      127    9.50431  14.669199   10.23924   NaN   True\n",
       "1      181   5.236078  18.977249  12.784163   NaN  False\n",
       "2      119    5.76446   3.946167   3.800426   NaN  False\n",
       "3       82  10.505496   18.76276   6.011096   NaN   True\n",
       "4      160   8.456918   8.018664  12.884299   NaN  False\n",
       "...    ...        ...        ...        ...   ...    ...\n",
       "99995  173   7.012674   9.891268   3.691995   NaN  False\n",
       "99996  128   6.002221  13.388834  13.102776   NaN   True\n",
       "99997  117   12.84431   6.418801    4.34267   NaN   True\n",
       "99998  191   9.133706   4.315008  12.339852   NaN   True\n",
       "99999   71   7.276809   1.768013  13.428863   NaN  False\n",
       "\n",
       "[100000 rows x 6 columns]"
      ]
     },
     "execution_count": 3,
     "metadata": {},
     "output_type": "execute_result"
    }
   ],
   "source": [
    "#random constant vales\n",
    "\n",
    "#Number of data\n",
    "N_data = 100000\n",
    "df = pd.DataFrame(columns=[\"x0\", \"w\", \"A\", \"bkg\", \"sigma\", \"GRB\"], index=range(N_data))\n",
    "\n",
    "for i in range(N_data):\n",
    "    df[\"x0\"].loc[i] = np.random.randint(64, 196)\n",
    "    df[\"w\"].loc[i] = np.random.uniform(5, 15)\n",
    "    df[\"A\"].loc[i] = np.random.uniform(1, 20)\n",
    "    df[\"bkg\"].loc[i] = np.random.uniform(1, 15)\n",
    "    df[\"GRB\"].loc[i] = [True, False][np.random.randint(2)]\n",
    "    \n",
    "df"
   ]
  },
  {
   "cell_type": "code",
   "execution_count": 4,
   "id": "ed4aed55",
   "metadata": {
    "id": "ed4aed55"
   },
   "outputs": [],
   "source": [
    "#generating random data\n",
    "\n",
    "#duration of peak window\n",
    "N_tu = 256\n",
    "\n",
    "data = []\n",
    "for i in range(N_data):\n",
    "    data.append(gen_signal(N=N_tu, \n",
    "                           x0=df.x0.loc[i], \n",
    "                           w=df.w.loc[i], \n",
    "                           A=df.A.loc[i], \n",
    "                           bkg=df.bkg.loc[i],\n",
    "                           sigma=df.sigma.loc[i],\n",
    "                           peak=df.GRB.loc[i])[1])"
   ]
  },
  {
   "cell_type": "code",
   "execution_count": 5,
   "id": "61b5a2b9",
   "metadata": {
    "id": "61b5a2b9"
   },
   "outputs": [],
   "source": [
    "X = np.array(data).reshape(-1, N_tu)\n",
    "y = df.GRB\n",
    "\n",
    "#encode target labels with value between 0 and n_classes-1\n",
    "le = LabelEncoder()\n",
    "\n",
    "#fit label encoder\n",
    "le.fit(y)\n",
    "\n",
    "#transform labels to normalized encoding (True = 1, False = 0)\n",
    "y = le.transform(y) \n",
    "\n",
    "#splits data into train and test dataset\n",
    "X_train, X_test, y_train, y_test = train_test_split(X, y, random_state=42)"
   ]
  },
  {
   "cell_type": "markdown",
   "id": "3d350fcb",
   "metadata": {
    "id": "3d350fcb"
   },
   "source": [
    "# Autoencoder"
   ]
  },
  {
   "cell_type": "code",
   "execution_count": 6,
   "id": "e44be976",
   "metadata": {
    "colab": {
     "base_uri": "https://localhost:8080/"
    },
    "executionInfo": {
     "elapsed": 471,
     "status": "ok",
     "timestamp": 1665158115592,
     "user": {
      "displayName": "Martin Chobola",
      "userId": "14296412163936900233"
     },
     "user_tz": -120
    },
    "id": "e44be976",
    "outputId": "b4227bc2-fab3-4d2a-9005-550c0399a0dd",
    "scrolled": true
   },
   "outputs": [],
   "source": [
    "autoencoder = tf.keras.models.load_model(\"autoencoder_dense\")"
   ]
  },
  {
   "cell_type": "code",
   "execution_count": 7,
   "id": "0ff75354",
   "metadata": {
    "colab": {
     "base_uri": "https://localhost:8080/"
    },
    "executionInfo": {
     "elapsed": 166225,
     "status": "ok",
     "timestamp": 1665158281811,
     "user": {
      "displayName": "Martin Chobola",
      "userId": "14296412163936900233"
     },
     "user_tz": -120
    },
    "id": "0ff75354",
    "outputId": "1a4073b4-8c5f-4c3d-bc76-3f3670136a84"
   },
   "outputs": [],
   "source": [
    "X_pred = autoencoder.predict(X_train)"
   ]
  },
  {
   "cell_type": "markdown",
   "id": "4d7035d5",
   "metadata": {},
   "source": [
    "\n",
    "#  Conv1D"
   ]
  },
  {
   "cell_type": "code",
   "execution_count": 8,
   "id": "b9dbc78a",
   "metadata": {
    "id": "b9dbc78a"
   },
   "outputs": [
    {
     "name": "stdout",
     "output_type": "stream",
     "text": [
      "Model: \"sequential\"\n",
      "_________________________________________________________________\n",
      " Layer (type)                Output Shape              Param #   \n",
      "=================================================================\n",
      " conv1d (Conv1D)             (None, 256, 256)          1536      \n",
      "                                                                 \n",
      " max_pooling1d (MaxPooling1D  (None, 32, 256)          0         \n",
      " )                                                               \n",
      "                                                                 \n",
      " conv1d_1 (Conv1D)           (None, 32, 64)            81984     \n",
      "                                                                 \n",
      " flatten (Flatten)           (None, 2048)              0         \n",
      "                                                                 \n",
      " dense (Dense)               (None, 32)                65568     \n",
      "                                                                 \n",
      " dense_1 (Dense)             (None, 16)                528       \n",
      "                                                                 \n",
      " dense_2 (Dense)             (None, 8)                 136       \n",
      "                                                                 \n",
      " dense_3 (Dense)             (None, 4)                 36        \n",
      "                                                                 \n",
      " dense_4 (Dense)             (None, 1)                 5         \n",
      "                                                                 \n",
      "=================================================================\n",
      "Total params: 149,793\n",
      "Trainable params: 149,793\n",
      "Non-trainable params: 0\n",
      "_________________________________________________________________\n"
     ]
    }
   ],
   "source": [
    "model = Sequential()\n",
    "model.add(Conv1D(256, 5, padding='same', activation='relu', input_shape=(np.shape(X_pred)[1], 1)))\n",
    "model.add(MaxPooling1D(pool_size=8))\n",
    "model.add(Conv1D(64, 5, padding='same', activation='relu'))\n",
    "model.add(Flatten())\n",
    "model.add(Dense(32,activation='relu'))\n",
    "model.add(Dense(16,activation='relu'))\n",
    "model.add(Dense(8,activation='relu'))\n",
    "model.add(Dense(4,activation='relu'))\n",
    "model.add(Dense(1, activation='sigmoid'))\n",
    "\n",
    "model.compile(optimizer=Adam(learning_rate=0.001),\n",
    "              loss='binary_crossentropy',\n",
    "              metrics=['accuracy'])\n",
    "\n",
    "conv_callback = [EarlyStopping(monitor='val_loss', patience=10),\n",
    "               TensorBoard(log_dir = \"./logs/conv/{}-{}-{}-{}\".format(datetime.datetime.today().month,\n",
    "                                                                      datetime.datetime.today().day,\n",
    "                                                                      datetime.datetime.today().hour,\n",
    "                                                                      datetime.datetime.today().minute), update_freq=\"epoch\")\n",
    "]\n",
    "model.summary()"
   ]
  },
  {
   "cell_type": "code",
   "execution_count": 9,
   "id": "250a9a56",
   "metadata": {
    "colab": {
     "background_save": true,
     "base_uri": "https://localhost:8080/"
    },
    "id": "250a9a56",
    "outputId": "63c24e7f-f4d4-497c-fcf9-4371276ed2ed"
   },
   "outputs": [
    {
     "name": "stdout",
     "output_type": "stream",
     "text": [
      "Epoch 1/40\n",
      "1172/1172 [==============================] - 48s 40ms/step - loss: 0.3869 - accuracy: 0.8341 - val_loss: 4.9802 - val_accuracy: 0.5034\n",
      "Epoch 2/40\n",
      "1172/1172 [==============================] - 47s 40ms/step - loss: 0.2798 - accuracy: 0.8863 - val_loss: 1.2383 - val_accuracy: 0.6133\n",
      "Epoch 3/40\n",
      "1172/1172 [==============================] - 47s 40ms/step - loss: 0.2767 - accuracy: 0.8884 - val_loss: 1.8343 - val_accuracy: 0.5691\n",
      "Epoch 4/40\n",
      "1172/1172 [==============================] - 47s 40ms/step - loss: 0.2748 - accuracy: 0.8889 - val_loss: 1.0481 - val_accuracy: 0.6490\n",
      "Epoch 5/40\n",
      "1172/1172 [==============================] - 46s 40ms/step - loss: 0.2709 - accuracy: 0.8902 - val_loss: 1.3135 - val_accuracy: 0.6097\n",
      "Epoch 6/40\n",
      "1172/1172 [==============================] - 46s 39ms/step - loss: 0.2696 - accuracy: 0.8905 - val_loss: 0.5741 - val_accuracy: 0.7639\n",
      "Epoch 7/40\n",
      "1172/1172 [==============================] - 45s 38ms/step - loss: 0.2672 - accuracy: 0.8919 - val_loss: 0.4344 - val_accuracy: 0.8146\n",
      "Epoch 8/40\n",
      "1172/1172 [==============================] - 45s 39ms/step - loss: 0.2674 - accuracy: 0.8920 - val_loss: 0.4709 - val_accuracy: 0.7993\n",
      "Epoch 9/40\n",
      "1172/1172 [==============================] - 45s 38ms/step - loss: 0.2664 - accuracy: 0.8921 - val_loss: 0.3929 - val_accuracy: 0.8287\n",
      "Epoch 10/40\n",
      "1172/1172 [==============================] - 45s 39ms/step - loss: 0.2654 - accuracy: 0.8927 - val_loss: 0.4447 - val_accuracy: 0.8159\n",
      "Epoch 11/40\n",
      "1172/1172 [==============================] - 45s 38ms/step - loss: 0.2647 - accuracy: 0.8929 - val_loss: 0.3496 - val_accuracy: 0.8470\n",
      "Epoch 12/40\n",
      "1172/1172 [==============================] - 44s 38ms/step - loss: 0.2655 - accuracy: 0.8929 - val_loss: 0.3638 - val_accuracy: 0.8419\n",
      "Epoch 13/40\n",
      "1172/1172 [==============================] - 45s 39ms/step - loss: 0.2644 - accuracy: 0.8922 - val_loss: 0.4187 - val_accuracy: 0.8228\n",
      "Epoch 14/40\n",
      "1172/1172 [==============================] - 47s 40ms/step - loss: 0.2642 - accuracy: 0.8928 - val_loss: 0.4187 - val_accuracy: 0.8279\n",
      "Epoch 15/40\n",
      "1172/1172 [==============================] - 47s 40ms/step - loss: 0.2638 - accuracy: 0.8930 - val_loss: 0.3817 - val_accuracy: 0.8352\n",
      "Epoch 16/40\n",
      "1172/1172 [==============================] - 49s 42ms/step - loss: 0.2634 - accuracy: 0.8935 - val_loss: 0.4179 - val_accuracy: 0.8300\n",
      "Epoch 17/40\n",
      "1172/1172 [==============================] - 52s 44ms/step - loss: 0.2631 - accuracy: 0.8940 - val_loss: 0.4378 - val_accuracy: 0.8211\n",
      "Epoch 18/40\n",
      "1172/1172 [==============================] - 45s 39ms/step - loss: 0.2643 - accuracy: 0.8932 - val_loss: 0.4740 - val_accuracy: 0.8064\n",
      "Epoch 19/40\n",
      "1172/1172 [==============================] - 46s 39ms/step - loss: 0.2626 - accuracy: 0.8938 - val_loss: 0.4801 - val_accuracy: 0.8065\n",
      "Epoch 20/40\n",
      "1172/1172 [==============================] - 46s 39ms/step - loss: 0.2626 - accuracy: 0.8942 - val_loss: 0.3885 - val_accuracy: 0.8313\n",
      "Epoch 21/40\n",
      "1172/1172 [==============================] - 46s 39ms/step - loss: 0.2622 - accuracy: 0.8943 - val_loss: 0.4223 - val_accuracy: 0.8203\n"
     ]
    }
   ],
   "source": [
    "history_conv = model.fit(X_pred, y_train,\n",
    "          validation_data = (X_test, y_test),\n",
    "          batch_size=64, epochs=40, callbacks=[conv_callback])"
   ]
  },
  {
   "cell_type": "code",
   "execution_count": 10,
   "id": "da6261b0",
   "metadata": {
    "colab": {
     "background_save": true
    },
    "id": "da6261b0",
    "outputId": "86fa8c22-245a-4a56-dd56-3ea8472db0e8"
   },
   "outputs": [
    {
     "data": {
      "image/png": "[encoded data removed]",
      "text/plain": [
       "<Figure size 576x576 with 2 Axes>"
      ]
     },
     "metadata": {
      "needs_background": "light"
     },
     "output_type": "display_data"
    }
   ],
   "source": [
    "acc = history_conv.history['accuracy']\n",
    "val_acc = history_conv.history['val_accuracy']\n",
    "\n",
    "loss = history_conv.history['loss']\n",
    "val_loss = history_conv.history['val_loss']\n",
    "\n",
    "plt.figure(figsize=(8, 8))\n",
    "plt.subplot(2, 1, 1)\n",
    "plt.plot(acc, label='Training Accuracy')\n",
    "plt.plot(val_acc, label='Validation Accuracy')\n",
    "plt.legend(loc='lower right')\n",
    "plt.ylabel('Accuracy')\n",
    "plt.title('Training and Validation Accuracy')\n",
    "\n",
    "plt.subplot(2, 1, 2)\n",
    "plt.plot(loss, label='Training Loss')\n",
    "plt.plot(val_loss, label='Validation Loss')\n",
    "plt.legend(loc='upper right')\n",
    "plt.ylabel('Cross Entropy')\n",
    "plt.title('Training and Validation Loss')\n",
    "plt.xlabel('epoch')\n",
    "plt.yscale(\"log\")\n",
    "plt.show()"
   ]
  },
  {
   "cell_type": "code",
   "execution_count": 38,
   "id": "e850c3a0",
   "metadata": {},
   "outputs": [
    {
     "data": {
      "text/plain": [
       "[<matplotlib.lines.Line2D at 0x27355fdd760>]"
      ]
     },
     "execution_count": 38,
     "metadata": {},
     "output_type": "execute_result"
    },
    {
     "data": {
      "image/png": "[encoded data removed]",
      "text/plain": [
       "<Figure size 432x288 with 1 Axes>"
      ]
     },
     "metadata": {
      "needs_background": "light"
     },
     "output_type": "display_data"
    }
   ],
   "source": [
    "#ROC curve\n",
    "y_pred_keras = model.predict(X_test).ravel()\n",
    "fpr_keras, tpr_keras, thresholds_keras = roc_curve(y_test, y_pred_keras)\n",
    "auc_keras = auc(fpr_keras, tpr_keras)\n",
    "plt.plot(fpr_keras, tpr_keras)"
   ]
  },
  {
   "cell_type": "code",
   "execution_count": 12,
   "id": "8017223d",
   "metadata": {},
   "outputs": [
    {
     "name": "stdout",
     "output_type": "stream",
     "text": [
      "True Negatives:  10441\n",
      "False Positives:  2025\n",
      "False Negatives:  2467\n",
      "True Positives:  10067\n",
      "Total:  25000\n"
     ]
    },
    {
     "data": {
      "image/png": "[encoded data removed]",
      "text/plain": [
       "<Figure size 360x360 with 2 Axes>"
      ]
     },
     "metadata": {
      "needs_background": "light"
     },
     "output_type": "display_data"
    }
   ],
   "source": [
    "def plot_cm(labels, predictions, p=0.5):\n",
    "    cm = confusion_matrix(labels, predictions >= p)\n",
    "    plt.figure(figsize=(5,5))\n",
    "    ax = sns.heatmap(cm, annot=True, fmt=\"d\")\n",
    "    ax.invert_yaxis()\n",
    "    \n",
    "    plt.ylabel('Actual label')\n",
    "    plt.xlabel('Predicted label')\n",
    "\n",
    "    print('True Negatives: ', cm[0][0])\n",
    "    print('False Positives: ', cm[0][1])\n",
    "    print('False Negatives: ', cm[1][0])\n",
    "    print('True Positives: ', cm[1][1])\n",
    "    print('Total: ', np.sum(cm))\n",
    "plot_cm(y_test, y_pred_keras)"
   ]
  },
  {
   "cell_type": "code",
   "execution_count": 13,
   "id": "536d228a",
   "metadata": {},
   "outputs": [
    {
     "data": {
      "text/plain": [
       "(array([2016., 5269., 2982., 1587., 1054.,  848.,  626.,  673.,  704.,\n",
       "        9241.]),\n",
       " array([1.7118050e-07, 1.0000015e-01, 2.0000014e-01, 3.0000013e-01,\n",
       "        4.0000010e-01, 5.0000006e-01, 6.0000008e-01, 7.0000005e-01,\n",
       "        8.0000001e-01, 9.0000004e-01, 1.0000000e+00], dtype=float32),\n",
       " <BarContainer object of 10 artists>)"
      ]
     },
     "execution_count": 13,
     "metadata": {},
     "output_type": "execute_result"
    },
    {
     "data": {
      "image/png": "[encoded data removed]",
      "text/plain": [
       "<Figure size 432x288 with 1 Axes>"
      ]
     },
     "metadata": {
      "needs_background": "light"
     },
     "output_type": "display_data"
    }
   ],
   "source": [
    "plt.hist(y_pred_keras)"
   ]
  },
  {
   "cell_type": "code",
   "execution_count": 17,
   "id": "c63c797e",
   "metadata": {},
   "outputs": [
    {
     "name": "stdout",
     "output_type": "stream",
     "text": [
      "INFO:tensorflow:Assets written to: conv1d_model\\assets\n"
     ]
    }
   ],
   "source": [
    "model.save(\"conv1d_model\")"
   ]
  },
  {
   "cell_type": "code",
   "execution_count": 40,
   "id": "925b42d5",
   "metadata": {},
   "outputs": [
    {
     "ename": "NameError",
     "evalue": "name 'ax1' is not defined",
     "output_type": "error",
     "traceback": [
      "\u001b[1;31m---------------------------------------------------------------------------\u001b[0m",
      "\u001b[1;31mNameError\u001b[0m                                 Traceback (most recent call last)",
      "\u001b[1;32m<ipython-input-40-6916d1d340c2>\u001b[0m in \u001b[0;36m<module>\u001b[1;34m\u001b[0m\n\u001b[1;32m----> 1\u001b[1;33m \u001b[0mpredict_graph_info\u001b[0m\u001b[1;33m(\u001b[0m\u001b[0my_test\u001b[0m\u001b[1;33m,\u001b[0m \u001b[0my_pred_keras\u001b[0m\u001b[1;33m)\u001b[0m\u001b[1;33m\u001b[0m\u001b[1;33m\u001b[0m\u001b[0m\n\u001b[0m",
      "\u001b[1;32m~\\diplomka\\predict_info.py\u001b[0m in \u001b[0;36mpredict_graph_info\u001b[1;34m(y_test, y_pred_keras)\u001b[0m\n\u001b[0;32m     17\u001b[0m     \u001b[0mauc_keras\u001b[0m \u001b[1;33m=\u001b[0m \u001b[0mauc\u001b[0m\u001b[1;33m(\u001b[0m\u001b[0mfpr_keras\u001b[0m\u001b[1;33m,\u001b[0m \u001b[0mtpr_keras\u001b[0m\u001b[1;33m)\u001b[0m\u001b[1;33m\u001b[0m\u001b[1;33m\u001b[0m\u001b[0m\n\u001b[0;32m     18\u001b[0m     \u001b[0max0\u001b[0m\u001b[1;33m.\u001b[0m\u001b[0mplot\u001b[0m\u001b[1;33m(\u001b[0m\u001b[0mfpr_keras\u001b[0m\u001b[1;33m,\u001b[0m \u001b[0mtpr_keras\u001b[0m\u001b[1;33m)\u001b[0m\u001b[1;33m\u001b[0m\u001b[1;33m\u001b[0m\u001b[0m\n\u001b[1;32m---> 19\u001b[1;33m \u001b[1;33m\u001b[0m\u001b[0m\n\u001b[0m\u001b[0;32m     20\u001b[0m \u001b[1;33m\u001b[0m\u001b[0m\n\u001b[0;32m     21\u001b[0m     \u001b[1;31m# histogram\u001b[0m\u001b[1;33m\u001b[0m\u001b[1;33m\u001b[0m\u001b[1;33m\u001b[0m\u001b[0m\n",
      "\u001b[1;31mNameError\u001b[0m: name 'ax1' is not defined"
     ]
    },
    {
     "data": {
      "image/png": "[encoded data removed]",
      "text/plain": [
       "<Figure size 432x288 with 4 Axes>"
      ]
     },
     "metadata": {
      "needs_background": "light"
     },
     "output_type": "display_data"
    }
   ],
   "source": [
    "predict_graph_info(y_test, y_pred_keras)"
   ]
  },
  {
   "cell_type": "code",
   "execution_count": null,
   "id": "21d748dc",
   "metadata": {},
   "outputs": [],
   "source": []
  }
 ],
 "metadata": {
  "colab": {
   "provenance": []
  },
  "kernelspec": {
   "display_name": "Python 3",
   "language": "python",
   "name": "python3"
  },
  "language_info": {
   "codemirror_mode": {
    "name": "ipython",
    "version": 3
   },
   "file_extension": ".py",
   "mimetype": "text/x-python",
   "name": "python",
   "nbconvert_exporter": "python",
   "pygments_lexer": "ipython3",
   "version": "3.8.8"
  }
 },
 "nbformat": 4,
 "nbformat_minor": 5
}
