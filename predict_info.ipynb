{
 "cells": [
  {
   "cell_type": "code",
   "execution_count": 1,
   "id": "9605b7ee",
   "metadata": {},
   "outputs": [],
   "source": [
    "import numpy as np\n",
    "import matplotlib.pyplot as plt\n",
    "import seaborn as sns\n",
    "from sklearn.metrics import auc, roc_curve, confusion_matrix\n",
    "def predict_graph_info(y_test, y_pred_keras): \n",
    "    fig, (ax0, ax1) = plt.subplots(1,2, figsize=(10, 5))\n",
    "    \n",
    "    \n",
    "    # ROC\n",
    "    fpr_keras, tpr_keras, thresholds_keras = roc_curve(y_test, y_pred_keras)\n",
    "    auc_keras = auc(fpr_keras, tpr_keras)\n",
    "    ax0.plot(fpr_keras, tpr_keras)\n",
    "    \n",
    "    \n",
    "    # histogram\n",
    "    ax1.hist(y_pred_keras, bins=20)\n",
    "    \n",
    "    \n",
    "    # confusion_matrix\n",
    "    cm = confusion_matrix(y_test, y_pred_keras >= 0.5)\n",
    "    print('True Negatives: ', cm[0][0])\n",
    "    print('False Positives: ', cm[0][1])\n",
    "    print('False Negatives: ', cm[1][0])\n",
    "    print('True Positives: ', cm[1][1])\n",
    "    print('Total: ', np.sum(cm))\n",
    "    print('True / False','-', cm[0][0]+cm[1][1],'/', cm[1][0]+cm[0][1],'-', (cm[0][0]+cm[1][1])*100/np.sum(cm),'/', (cm[1][0]+cm[0][1])*100/np.sum(cm))\n",
    "    \n",
    "    \n",
    "    fig.tight_layout()\n",
    "    plt.show()"
   ]
  }
 ],
 "metadata": {
  "kernelspec": {
   "display_name": "Python 3",
   "language": "python",
   "name": "python3"
  },
  "language_info": {
   "codemirror_mode": {
    "name": "ipython",
    "version": 3
   },
   "file_extension": ".py",
   "mimetype": "text/x-python",
   "name": "python",
   "nbconvert_exporter": "python",
   "pygments_lexer": "ipython3",
   "version": "3.8.8"
  }
 },
 "nbformat": 4,
 "nbformat_minor": 5
}
